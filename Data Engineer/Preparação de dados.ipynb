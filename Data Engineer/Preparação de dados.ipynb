{
 "cells": [
  {
   "cell_type": "code",
   "execution_count": 1,
   "metadata": {
    "collapsed": true
   },
   "outputs": [],
   "source": [
    "#Importando as bibliotecas\n",
    "import pandas as pd"
   ]
  },
  {
   "cell_type": "code",
   "execution_count": 24,
   "metadata": {
    "collapsed": false
   },
   "outputs": [],
   "source": [
    "def read_files(path, name_file, year_date, type_file):\n",
    "    _file = f'{path}{name_file}{year_date}.{type_file}'\n",
    "    colspecs = [(12, 24),\n",
    "                (27, 39),\n",
    "                (2, 10),\n",
    "                (56, 69),\n",
    "                (69, 82),\n",
    "                (82, 95),\n",
    "                (170, 188),\n",
    "                (152, 170),\n",
    "                (108, 121),\n",
    "                (10, 12)                                        \n",
    "    ]\n",
    "\n",
    "    names = [ 'sigla_acao', 'nome_acao', 'data_pregao', 'preco_abertura', 'preco_maximo', 'preco_minimo', 'volume_total_negociado', 'qnt_total_negociado', 'preco_fechamento', 'codbdi' ]\n",
    "\n",
    "    df = pd.read_fwf(_file, colspecs = colspecs, names = names, skiprows = 1)\n",
    "    return df"
   ]
  },
  {
   "cell_type": "code",
   "execution_count": 13,
   "metadata": {
    "collapsed": false
   },
   "outputs": [],
   "source": [
    "#Filtrar ações\n",
    "def filter_stocks(df):\n",
    "    df = df [df['codbdi']==2]\n",
    "    df = df.drop(['codbdi'], 1)\n",
    "    return df"
   ]
  },
  {
   "cell_type": "code",
   "execution_count": 14,
   "metadata": {
    "collapsed": false
   },
   "outputs": [],
   "source": [
    "#Ajuste campo de data\n",
    "def parse_date(df):\n",
    "    df['data_pregao'] = pd.to_datetime(df['data_pregao'], format = '%Y%m%d')\n",
    "    return df"
   ]
  },
  {
   "cell_type": "code",
   "execution_count": 25,
   "metadata": {
    "collapsed": false
   },
   "outputs": [],
   "source": [
    "#Ajuste dos campos numéricos\n",
    "def parse_values(df):\n",
    "    df['preco_abertura'] = (df['preco_abertura'] /100).astype(float)\n",
    "    df['preco_minimo'] = (df['preco_minimo'] /100).astype(float)\n",
    "    df['preco_maximo'] = (df['preco_maximo'] /100).astype(float)\n",
    "    df['preco_fechamento'] = (df['preco_fechamento'] /100).astype(float)\n",
    "    df['qnt_total_negociado'] = df['qnt_total_negociado'].astype(float)\n",
    "    df['volume_total_negociado'] = df['volume_total_negociado'].astype(float)\n",
    "    \n",
    "    return df"
   ]
  },
  {
   "cell_type": "code",
   "execution_count": 9,
   "metadata": {
    "collapsed": false
   },
   "outputs": [
    {
     "data": {
      "text/plain": [
       "data_pregao         datetime64[ns]\n",
       "sigla_acao                  object\n",
       "nome_acao                   object\n",
       "preco_abertura             float64\n",
       "preco_maximo               float64\n",
       "preco_minimo               float64\n",
       "preco_fechamento           float64\n",
       "qnt_negocios               float64\n",
       "volume_negocios            float64\n",
       "dtype: object"
      ]
     },
     "execution_count": 9,
     "metadata": {},
     "output_type": "execute_result"
    }
   ],
   "source": [
    "df.dtypes"
   ]
  },
  {
   "cell_type": "code",
   "execution_count": 16,
   "metadata": {
    "collapsed": false
   },
   "outputs": [],
   "source": [
    "#Juntando os arquivos\n",
    "\n",
    "def concat_files(path, name_file, year_date, type_file, final_file):\n",
    "    for i, y in enumerate(year_date):\n",
    "        df = read_files(path, name_file, y, type_file)\n",
    "        df = filter_stocks(df)\n",
    "        df = parse_date(df)\n",
    "        df = parse_values(df)\n",
    "        \n",
    "        if i == 0:\n",
    "            df_final = df\n",
    "        else:\n",
    "            df_final = pd.concat([df_final, df])\n",
    "            \n",
    "    df_final.to_csv(f'{path}//{final_file}', index=False)\n",
    "    "
   ]
  },
  {
   "cell_type": "code",
   "execution_count": 26,
   "metadata": {
    "collapsed": false
   },
   "outputs": [],
   "source": [
    "#Executando programa de etl\n",
    "year_date=[ '2009', '2010', '2011', '2012', '2013', '2014', '2015', '2016', '2017', '2018', '2019', '2020' ]\n",
    "\n",
    "path=f'/home/leonardo/Artificial Intelligence/Machine Learning/Data Engineer/'\n",
    "\n",
    "name_file='COTAHIST_A'\n",
    "\n",
    "type_file='TXT'\n",
    "\n",
    "final_file='df_all_bovespa.csv'\n",
    "\n",
    "concat_files( path, name_file, year_date, type_file, final_file )"
   ]
  },
  {
   "cell_type": "code",
   "execution_count": null,
   "metadata": {
    "collapsed": true
   },
   "outputs": [],
   "source": []
  }
 ],
 "metadata": {
  "anaconda-cloud": {},
  "kernelspec": {
   "display_name": "Python 3.6.9 64-bit",
   "language": "python",
   "name": "python36964biteb923cada2674160ab67027487fa1c13"
  },
  "language_info": {
   "codemirror_mode": {
    "name": "ipython",
    "version": 3
   },
   "file_extension": ".py",
   "mimetype": "text/x-python",
   "name": "python",
   "nbconvert_exporter": "python",
   "pygments_lexer": "ipython3",
   "version": "3.6.9"
  }
 },
 "nbformat": 4,
 "nbformat_minor": 1
}
